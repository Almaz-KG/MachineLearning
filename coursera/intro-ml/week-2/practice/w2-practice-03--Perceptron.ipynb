{
 "cells": [
  {
   "cell_type": "code",
   "execution_count": 114,
   "metadata": {},
   "outputs": [],
   "source": [
    "import pandas as pd\n",
    "import numpy as np\n",
    "import sklearn as sk\n",
    "from sklearn.linear_model import Perceptron\n",
    "from sklearn.preprocessing import StandardScaler\n",
    "from sklearn.metrics import accuracy_score"
   ]
  },
  {
   "cell_type": "code",
   "execution_count": 115,
   "metadata": {},
   "outputs": [],
   "source": [
    "data_train = pd.read_csv('resources/perceptron-train.csv', header=None)\n",
    "data_test = pd.read_csv('resources/perceptron-test.csv', header=None)"
   ]
  },
  {
   "cell_type": "code",
   "execution_count": 116,
   "metadata": {},
   "outputs": [],
   "source": [
    "X_train = data_train.copy()\n",
    "X_train.columns = [\"Target\", \"A\",\"B\"]\n",
    "X_train_target = X_train[\"Target\"]\n",
    "X_train_data = X_train[[\"A\", \"B\"]]\n",
    "\n",
    "X_test = data_test.copy()\n",
    "X_test.columns = [\"Target\", \"A\",\"B\"]\n",
    "X_test_target = X_test[\"Target\"]\n",
    "X_test_data = X_test[[\"A\", \"B\"]]"
   ]
  },
  {
   "cell_type": "code",
   "execution_count": 117,
   "metadata": {},
   "outputs": [],
   "source": [
    "perceptron1 = Perceptron(random_state=241) \n",
    "perceptron1.fit(X_train_data, X_train_target)\n",
    "predictions1 = perceptron1.predict(X_test_data)\n",
    "score1 = accuracy_score(X_test_target, predictions1)"
   ]
  },
  {
   "cell_type": "code",
   "execution_count": 119,
   "metadata": {},
   "outputs": [],
   "source": [
    "scaler = StandardScaler()\n",
    "X_train_data_scaled = scaler.fit_transform(X_train_data)\n",
    "X_test_data_scaled = scaler.transform(X_test_data)\n",
    "\n",
    "perceptron2 = Perceptron(random_state=241)\n",
    "perceptron2.fit(X_train_data_scaled, X_train_target)\n",
    "predictions2 = perceptron2.predict(X_test_data_scaled)\n",
    "\n",
    "score2 = accuracy_score(X_test_target, predictions2)"
   ]
  },
  {
   "cell_type": "code",
   "execution_count": 120,
   "metadata": {},
   "outputs": [
    {
     "name": "stdout",
     "output_type": "stream",
     "text": [
      "Score 1: 0.655\n",
      "Score scaled: 0.845\n",
      "Total score: 0.190\n"
     ]
    }
   ],
   "source": [
    "print(\"Score 1: %.3f\" % score1 )\n",
    "print(\"Score scaled: %.3f\" % score2 )\n",
    "print(\"Total score: %.3f\" % (score2 - score1))"
   ]
  }
 ],
 "metadata": {
  "kernelspec": {
   "display_name": "Python 2",
   "language": "python",
   "name": "python2"
  },
  "language_info": {
   "codemirror_mode": {
    "name": "ipython",
    "version": 2
   },
   "file_extension": ".py",
   "mimetype": "text/x-python",
   "name": "python",
   "nbconvert_exporter": "python",
   "pygments_lexer": "ipython2",
   "version": "2.7.15"
  }
 },
 "nbformat": 4,
 "nbformat_minor": 2
}
