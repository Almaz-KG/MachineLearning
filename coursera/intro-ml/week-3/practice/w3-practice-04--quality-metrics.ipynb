{
 "cells": [
  {
   "cell_type": "code",
   "execution_count": 1,
   "metadata": {},
   "outputs": [],
   "source": [
    "import pandas as pd"
   ]
  },
  {
   "cell_type": "code",
   "execution_count": 75,
   "metadata": {},
   "outputs": [],
   "source": [
    "c = pd.read_csv('resources/classification.csv')"
   ]
  },
  {
   "cell_type": "code",
   "execution_count": 83,
   "metadata": {},
   "outputs": [],
   "source": [
    "tp = len(c[(c['true'] == c['pred']) & (c['true'] == 1)])\n",
    "fp = len(c[(c['true'] == 0) & (c['pred'] == 1)])\n",
    "fn = len(c[(c['true'] == 1) & (c['pred'] == 0)])\n",
    "tn = len(c[(c['true'] == c['pred']) & (c['true'] == 0)])\n"
   ]
  },
  {
   "cell_type": "code",
   "execution_count": 84,
   "metadata": {},
   "outputs": [
    {
     "name": "stdout",
     "output_type": "stream",
     "text": [
      "Total: 200\n",
      "Total: 200\n",
      "43 34 59 64\n"
     ]
    }
   ],
   "source": [
    "print(\"Total: {}\".format(len(c)))\n",
    "print(\"Total: {}\".format((tp + fp + fn + tn)))\n",
    "print(\"{} {} {} {}\".format(tp, fp, fn, tn))\n"
   ]
  },
  {
   "cell_type": "code",
   "execution_count": 31,
   "metadata": {},
   "outputs": [
    {
     "name": "stdout",
     "output_type": "stream",
     "text": [
      "0.535 0.558441558442 0.421568627451 0.480446927374\n"
     ]
    }
   ],
   "source": [
    "from sklearn.metrics import accuracy_score\n",
    "from sklearn.metrics import precision_score\n",
    "from sklearn.metrics import recall_score\n",
    "from sklearn.metrics import f1_score\n",
    "\n",
    "ac = accuracy_score(c['true'], c['pred'])\n",
    "ps = precision_score(c['true'], c['pred'])\n",
    "rs = recall_score(c['true'], c['pred'])\n",
    "f1 = f1_score(c['true'], c['pred'])\n",
    "\n",
    "print(\"{} {} {} {}\".format(ac, ps, rs, f1))"
   ]
  },
  {
   "cell_type": "code",
   "execution_count": 33,
   "metadata": {},
   "outputs": [
    {
     "data": {
      "text/html": [
       "<div>\n",
       "<style scoped>\n",
       "    .dataframe tbody tr th:only-of-type {\n",
       "        vertical-align: middle;\n",
       "    }\n",
       "\n",
       "    .dataframe tbody tr th {\n",
       "        vertical-align: top;\n",
       "    }\n",
       "\n",
       "    .dataframe thead th {\n",
       "        text-align: right;\n",
       "    }\n",
       "</style>\n",
       "<table border=\"1\" class=\"dataframe\">\n",
       "  <thead>\n",
       "    <tr style=\"text-align: right;\">\n",
       "      <th></th>\n",
       "      <th>true</th>\n",
       "      <th>score_logreg</th>\n",
       "      <th>score_svm</th>\n",
       "      <th>score_knn</th>\n",
       "      <th>score_tree</th>\n",
       "    </tr>\n",
       "  </thead>\n",
       "  <tbody>\n",
       "    <tr>\n",
       "      <th>0</th>\n",
       "      <td>0</td>\n",
       "      <td>0.683832</td>\n",
       "      <td>0.145976</td>\n",
       "      <td>0.787063</td>\n",
       "      <td>0.500000</td>\n",
       "    </tr>\n",
       "    <tr>\n",
       "      <th>1</th>\n",
       "      <td>1</td>\n",
       "      <td>0.801966</td>\n",
       "      <td>0.239511</td>\n",
       "      <td>1.000000</td>\n",
       "      <td>0.833333</td>\n",
       "    </tr>\n",
       "    <tr>\n",
       "      <th>2</th>\n",
       "      <td>0</td>\n",
       "      <td>0.382315</td>\n",
       "      <td>-0.245701</td>\n",
       "      <td>0.000000</td>\n",
       "      <td>0.000000</td>\n",
       "    </tr>\n",
       "    <tr>\n",
       "      <th>3</th>\n",
       "      <td>1</td>\n",
       "      <td>0.506797</td>\n",
       "      <td>-0.137058</td>\n",
       "      <td>0.000000</td>\n",
       "      <td>0.105263</td>\n",
       "    </tr>\n",
       "    <tr>\n",
       "      <th>4</th>\n",
       "      <td>1</td>\n",
       "      <td>0.488781</td>\n",
       "      <td>-0.154148</td>\n",
       "      <td>0.000000</td>\n",
       "      <td>0.105263</td>\n",
       "    </tr>\n",
       "  </tbody>\n",
       "</table>\n",
       "</div>"
      ],
      "text/plain": [
       "   true  score_logreg  score_svm  score_knn  score_tree\n",
       "0     0      0.683832   0.145976   0.787063    0.500000\n",
       "1     1      0.801966   0.239511   1.000000    0.833333\n",
       "2     0      0.382315  -0.245701   0.000000    0.000000\n",
       "3     1      0.506797  -0.137058   0.000000    0.105263\n",
       "4     1      0.488781  -0.154148   0.000000    0.105263"
      ]
     },
     "execution_count": 33,
     "metadata": {},
     "output_type": "execute_result"
    }
   ],
   "source": [
    "s = pd.read_csv('resources/scores.csv')\n",
    "s.head()"
   ]
  },
  {
   "cell_type": "code",
   "execution_count": 39,
   "metadata": {},
   "outputs": [
    {
     "name": "stdout",
     "output_type": "stream",
     "text": [
      "0.71918767507 0.708683473389 0.635154061625 0.691926770708\n"
     ]
    }
   ],
   "source": [
    "from sklearn.metrics import roc_auc_score\n",
    "\n",
    "lr = roc_auc_score(s['true'], s['score_logreg'])\n",
    "svm = roc_auc_score(s['true'], s['score_svm'])\n",
    "knn = roc_auc_score(s['true'], s['score_knn'])\n",
    "tree = roc_auc_score(s['true'], s['score_tree'])\n",
    "\n",
    "print(\"{} {} {} {}\".format(lr, svm, knn, tree))"
   ]
  },
  {
   "cell_type": "code",
   "execution_count": 73,
   "metadata": {},
   "outputs": [
    {
     "name": "stdout",
     "output_type": "stream",
     "text": [
      "LR   max precision: 0.63025210084\n",
      "Svm  max precision: 0.622807017544\n",
      "Knn  max precision: 0.606557377049\n",
      "Tree max precision: 0.651785714286\n"
     ]
    }
   ],
   "source": [
    "from sklearn.metrics import precision_recall_curve\n",
    "\n",
    "#lr = precision_recall_curve(s['true'], s['score_logreg'])\n",
    "\n",
    "lr_prec, lr_recall, lr_thres = precision_recall_curve(s['true'], s['score_logreg'])\n",
    "lr_df = pd.DataFrame([lr_prec, lr_recall, lr_thres]).transpose()\n",
    "lr_df.columns = ['precision', 'recall', 'thresholds']\n",
    "\n",
    "svm_prec, svm_recall, svm_thres = precision_recall_curve(s['true'], s['score_svm'])\n",
    "svm_df = pd.DataFrame([svm_prec, svm_recall, svm_thres]).transpose()\n",
    "svm_df.columns = ['precision', 'recall', 'thresholds']\n",
    "\n",
    "knn_prec, knn_recall, knn_thres = precision_recall_curve(s['true'], s['score_knn'])\n",
    "knn_df = pd.DataFrame([knn_prec, knn_recall, knn_thres]).transpose()\n",
    "knn_df.columns = ['precision', 'recall', 'thresholds']\n",
    "\n",
    "t_prec, t_recall, t_thres = precision_recall_curve(s['true'], s['score_tree'])\n",
    "t_df = pd.DataFrame([t_prec, t_recall, t_thres]).transpose()\n",
    "t_df.columns = ['precision', 'recall', 'thresholds']\n",
    "\n",
    "print(\"LR   max precision: {}\".format(lr_df[lr_df['recall'] >= 0.70]['precision'].describe()['max']))\n",
    "print(\"Svm  max precision: {}\".format(svm_df[svm_df['recall'] >= 0.70]['precision'].describe()['max']))\n",
    "print(\"Knn  max precision: {}\".format(knn_df[knn_df['recall'] >= 0.70]['precision'].describe()['max']))\n",
    "print(\"Tree max precision: {}\".format(t_df[t_df['recall'] >= 0.70]['precision'].describe()['max']))"
   ]
  }
 ],
 "metadata": {
  "kernelspec": {
   "display_name": "Python 2",
   "language": "python",
   "name": "python2"
  },
  "language_info": {
   "codemirror_mode": {
    "name": "ipython",
    "version": 2
   },
   "file_extension": ".py",
   "mimetype": "text/x-python",
   "name": "python",
   "nbconvert_exporter": "python",
   "pygments_lexer": "ipython2",
   "version": "2.7.15"
  }
 },
 "nbformat": 4,
 "nbformat_minor": 2
}
