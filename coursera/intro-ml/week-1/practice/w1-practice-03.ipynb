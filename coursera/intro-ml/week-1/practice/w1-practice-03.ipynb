{
 "cells": [
  {
   "cell_type": "code",
   "execution_count": 15,
   "metadata": {},
   "outputs": [],
   "source": [
    "import pandas as pd\n",
    "import numpy as np"
   ]
  },
  {
   "cell_type": "code",
   "execution_count": 9,
   "metadata": {},
   "outputs": [],
   "source": [
    "data = pd.read_csv('resources/titanic.csv')"
   ]
  },
  {
   "cell_type": "code",
   "execution_count": 10,
   "metadata": {},
   "outputs": [
    {
     "name": "stdout",
     "output_type": "stream",
     "text": [
      "   PassengerId  Survived  Pclass  \\\n",
      "0            1         0       3   \n",
      "1            2         1       1   \n",
      "2            3         1       3   \n",
      "3            4         1       1   \n",
      "4            5         0       3   \n",
      "5            6         0       3   \n",
      "6            7         0       1   \n",
      "7            8         0       3   \n",
      "8            9         1       3   \n",
      "9           10         1       2   \n",
      "\n",
      "                                                Name     Sex   Age  SibSp  \\\n",
      "0                            Braund, Mr. Owen Harris    male  22.0      1   \n",
      "1  Cumings, Mrs. John Bradley (Florence Briggs Th...  female  38.0      1   \n",
      "2                             Heikkinen, Miss. Laina  female  26.0      0   \n",
      "3       Futrelle, Mrs. Jacques Heath (Lily May Peel)  female  35.0      1   \n",
      "4                           Allen, Mr. William Henry    male  35.0      0   \n",
      "5                                   Moran, Mr. James    male   NaN      0   \n",
      "6                            McCarthy, Mr. Timothy J    male  54.0      0   \n",
      "7                     Palsson, Master. Gosta Leonard    male   2.0      3   \n",
      "8  Johnson, Mrs. Oscar W (Elisabeth Vilhelmina Berg)  female  27.0      0   \n",
      "9                Nasser, Mrs. Nicholas (Adele Achem)  female  14.0      1   \n",
      "\n",
      "   Parch            Ticket     Fare Cabin Embarked  \n",
      "0      0         A/5 21171   7.2500   NaN        S  \n",
      "1      0          PC 17599  71.2833   C85        C  \n",
      "2      0  STON/O2. 3101282   7.9250   NaN        S  \n",
      "3      0            113803  53.1000  C123        S  \n",
      "4      0            373450   8.0500   NaN        S  \n",
      "5      0            330877   8.4583   NaN        Q  \n",
      "6      0             17463  51.8625   E46        S  \n",
      "7      1            349909  21.0750   NaN        S  \n",
      "8      2            347742  11.1333   NaN        S  \n",
      "9      0            237736  30.0708   NaN        C  \n"
     ]
    }
   ],
   "source": [
    "print(data.head(10))"
   ]
  },
  {
   "cell_type": "code",
   "execution_count": 11,
   "metadata": {},
   "outputs": [],
   "source": [
    "prepared_data = data[[\"Pclass\", \"Fare\", \"Age\", \"Sex\"]]"
   ]
  },
  {
   "cell_type": "code",
   "execution_count": 13,
   "metadata": {},
   "outputs": [
    {
     "name": "stdout",
     "output_type": "stream",
     "text": [
      "<class 'pandas.core.frame.DataFrame'>\n",
      "   Pclass     Fare   Age     Sex\n",
      "0       3   7.2500  22.0    male\n",
      "1       1  71.2833  38.0  female\n",
      "2       3   7.9250  26.0  female\n",
      "3       1  53.1000  35.0  female\n",
      "4       3   8.0500  35.0    male\n",
      "5       3   8.4583   NaN    male\n",
      "6       1  51.8625  54.0    male\n",
      "7       3  21.0750   2.0    male\n",
      "8       3  11.1333  27.0  female\n",
      "9       2  30.0708  14.0  female\n"
     ]
    }
   ],
   "source": [
    "print(type(prepared_data))\n",
    "print(prepared_data.head(10))"
   ]
  },
  {
   "cell_type": "code",
   "execution_count": 35,
   "metadata": {},
   "outputs": [
    {
     "name": "stdout",
     "output_type": "stream",
     "text": [
      "    Pclass     Fare   Age  Sex\n",
      "0        3   7.2500  22.0    1\n",
      "1        1  71.2833  38.0    0\n",
      "2        3   7.9250  26.0    0\n",
      "3        1  53.1000  35.0    0\n",
      "4        3   8.0500  35.0    1\n",
      "6        1  51.8625  54.0    1\n",
      "7        3  21.0750   2.0    1\n",
      "8        3  11.1333  27.0    0\n",
      "9        2  30.0708  14.0    0\n",
      "10       3  16.7000   4.0    0\n",
      "714\n"
     ]
    }
   ],
   "source": [
    "pdf1 = prepared_data[np.isfinite(prepared_data['Age'])]\n",
    "pdf = pdf1[pdf1['Sex'].notnull()]\n",
    "\n",
    "\n",
    "from sklearn.preprocessing import LabelEncoder\n",
    "label = LabelEncoder()\n",
    "dicts = {}\n",
    "\n",
    "label.fit(pdf.Sex.drop_duplicates())\n",
    "dicts['Sex'] = list(label.classes_)\n",
    "pdf.Sex = label.transform(pdf.Sex)\n",
    "\n",
    "print(pdf.head(10))\n",
    "print(len(pdf))"
   ]
  },
  {
   "cell_type": "code",
   "execution_count": 33,
   "metadata": {},
   "outputs": [
    {
     "name": "stdout",
     "output_type": "stream",
     "text": [
      "    Survived   Age     Sex\n",
      "0          0  22.0    male\n",
      "1          1  38.0  female\n",
      "2          1  26.0  female\n",
      "3          1  35.0  female\n",
      "4          0  35.0    male\n",
      "6          0  54.0    male\n",
      "7          0   2.0    male\n",
      "8          1  27.0  female\n",
      "9          1  14.0  female\n",
      "10         1   4.0  female\n",
      "714\n"
     ]
    }
   ],
   "source": [
    "surv = data[[\"Survived\", \"Age\", \"Sex\"]]\n",
    "surv1 = surv[np.isfinite(surv['Age'])]\n",
    "survived = surv1[surv1['Sex'].notnull()]\n",
    "survived.Sex = survived\n",
    "\n",
    "print(survived.head(10))\n",
    "print(len(survived))"
   ]
  },
  {
   "cell_type": "code",
   "execution_count": 37,
   "metadata": {},
   "outputs": [
    {
     "data": {
      "text/plain": [
       "DecisionTreeClassifier(class_weight=None, criterion='gini', max_depth=None,\n",
       "            max_features=None, max_leaf_nodes=None,\n",
       "            min_impurity_decrease=0.0, min_impurity_split=None,\n",
       "            min_samples_leaf=1, min_samples_split=2,\n",
       "            min_weight_fraction_leaf=0.0, presort=False, random_state=241,\n",
       "            splitter='best')"
      ]
     },
     "execution_count": 37,
     "metadata": {},
     "output_type": "execute_result"
    }
   ],
   "source": [
    "from sklearn.tree import DecisionTreeClassifier\n",
    "clf = DecisionTreeClassifier(random_state=241)\n",
    "clf.fit(pdf, survived.Survived)"
   ]
  },
  {
   "cell_type": "code",
   "execution_count": 40,
   "metadata": {},
   "outputs": [
    {
     "name": "stdout",
     "output_type": "stream",
     "text": [
      "   Pclass  Fare   Age  Sex\n",
      "0       3  7.25  22.0    1\n",
      "[0.14000522 0.30343647 0.2560461  0.30051221]\n"
     ]
    }
   ],
   "source": [
    "print(pdf.head(1))\n",
    "print(clf.feature_importances_)"
   ]
  },
  {
   "cell_type": "code",
   "execution_count": 41,
   "metadata": {},
   "outputs": [
    {
     "name": "stdout",
     "output_type": "stream",
     "text": [
      "('Age', 'Sex')\n"
     ]
    }
   ],
   "source": [
    "print(\"Age\", \"Sex\")"
   ]
  },
  {
   "cell_type": "code",
   "execution_count": null,
   "metadata": {},
   "outputs": [],
   "source": []
  }
 ],
 "metadata": {
  "kernelspec": {
   "display_name": "Python 2",
   "language": "python",
   "name": "python2"
  },
  "language_info": {
   "codemirror_mode": {
    "name": "ipython",
    "version": 2
   },
   "file_extension": ".py",
   "mimetype": "text/x-python",
   "name": "python",
   "nbconvert_exporter": "python",
   "pygments_lexer": "ipython2",
   "version": "2.7.15"
  }
 },
 "nbformat": 4,
 "nbformat_minor": 2
}
