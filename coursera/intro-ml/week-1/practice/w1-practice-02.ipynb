{
 "cells": [
  {
   "cell_type": "code",
   "execution_count": 2,
   "metadata": {},
   "outputs": [],
   "source": [
    "import pandas as pd"
   ]
  },
  {
   "cell_type": "code",
   "execution_count": 226,
   "metadata": {},
   "outputs": [],
   "source": [
    "titanic_data = pd.read_csv('resources/titanic.csv')"
   ]
  },
  {
   "cell_type": "code",
   "execution_count": 227,
   "metadata": {},
   "outputs": [
    {
     "name": "stdout",
     "output_type": "stream",
     "text": [
      "(891, 12)\n"
     ]
    }
   ],
   "source": [
    "print(titanic_data.shape)"
   ]
  },
  {
   "cell_type": "code",
   "execution_count": 228,
   "metadata": {},
   "outputs": [
    {
     "name": "stdout",
     "output_type": "stream",
     "text": [
      "3    491\n",
      "1    216\n",
      "2    184\n",
      "Name: Pclass, dtype: int64\n"
     ]
    }
   ],
   "source": [
    "print(titanic_data.Pclass.value_counts())"
   ]
  },
  {
   "cell_type": "code",
   "execution_count": 229,
   "metadata": {},
   "outputs": [
    {
     "name": "stdout",
     "output_type": "stream",
     "text": [
      "male      577\n",
      "female    314\n",
      "Name: Sex, dtype: int64\n"
     ]
    }
   ],
   "source": [
    "#Какое количество мужчин и женщин ехало на корабле? В качестве ответа приведите два числа через пробел.\n",
    "print(titanic_data.Sex.value_counts())"
   ]
  },
  {
   "cell_type": "code",
   "execution_count": 231,
   "metadata": {},
   "outputs": [
    {
     "name": "stdout",
     "output_type": "stream",
     "text": [
      "0    549\n",
      "1    342\n",
      "Name: Survived, dtype: int64\n",
      "Выжили 342\n",
      "Погибли 549\n",
      "Процент выживаемости 38.38\n"
     ]
    }
   ],
   "source": [
    "#Какой части пассажиров удалось выжить? \n",
    "#Посчитайте долю выживших пассажиров. \n",
    "#Ответ приведите в процентах (число в интервале от 0 до 100, знак процента не нужен), округлив до двух знаков.\n",
    "died = titanic_data.Survived.value_counts()[0]\n",
    "surv = titanic_data.Survived.value_counts()[1]\n",
    "print(titanic_data.Survived.value_counts())\n",
    "print(\"Выжили %d\" % surv)\n",
    "print(\"Погибли %d\" % died)\n",
    "print(\"Процент выживаемости %.2f\" % (100.0 * surv / (died + surv)))"
   ]
  },
  {
   "cell_type": "code",
   "execution_count": 51,
   "metadata": {},
   "outputs": [
    {
     "name": "stdout",
     "output_type": "stream",
     "text": [
      "24.24\n"
     ]
    }
   ],
   "source": [
    "# Какую долю пассажиры первого класса составляли среди всех пассажиров? \n",
    "# Ответ приведите в процентах (число в интервале от 0 до 100, знак процента не нужен), округлив до двух знаков.\n",
    "total = len(titanic_data)\n",
    "first_class = len(titanic_data[titanic_data.Pclass == 1])\n",
    "print(\"%.2f\" % (100.0 * first_class / total))"
   ]
  },
  {
   "cell_type": "code",
   "execution_count": 246,
   "metadata": {},
   "outputs": [
    {
     "name": "stdout",
     "output_type": "stream",
     "text": [
      "29.70 28.00\n"
     ]
    }
   ],
   "source": [
    "#Какого возраста были пассажиры? Посчитайте среднее и медиану возраста пассажиров. \n",
    "#В качестве ответа приведите два числа через пробел.\n",
    "import numpy as np\n",
    "\n",
    "avg = titanic_data.Age.mean(skipna=True)\n",
    "meadian = titanic_data.Age.median(skipna=True)\n",
    "\n",
    "print(\"%.2f %.2f\" % (avg, meadian))\n"
   ]
  },
  {
   "cell_type": "code",
   "execution_count": 147,
   "metadata": {},
   "outputs": [
    {
     "name": "stdout",
     "output_type": "stream",
     "text": [
      "0.41\n"
     ]
    }
   ],
   "source": [
    "# Коррелируют ли число братьев/сестер/супругов с числом родителей/детей? \n",
    "# Посчитайте корреляцию Пирсона между признаками SibSp и Parch.\n",
    "print(\"%.2f\" % np.corrcoef(titanic_data.SibSp, titanic_data.Parch)[0, 1])"
   ]
  },
  {
   "cell_type": "code",
   "execution_count": 212,
   "metadata": {},
   "outputs": [
    {
     "name": "stdout",
     "output_type": "stream",
     "text": [
      "count      314\n",
      "unique     252\n",
      "top       Mary\n",
      "freq        10\n",
      "Name: ClearedName, dtype: object\n"
     ]
    }
   ],
   "source": [
    "# Какое самое популярное женское имя на корабле? \n",
    "# Извлеките из полного имени пассажира (колонка Name) его личное имя (First Name). \n",
    "# Это задание — типичный пример того, с чем сталкивается специалист по анализу данных. \n",
    "# Данные очень разнородные и шумные, но из них требуется извлечь необходимую информацию. \n",
    "# Попробуйте вручную разобрать несколько значений столбца Name и выработать правило для извлечения имен, а также \n",
    "# разделения их на женские и мужские.\n",
    "\n",
    "def normilize_name1(n = None):\n",
    "    if '(' in n:\n",
    "        return n.split(\"(\")[1].replace(\")\", \"\")\n",
    "    return n\n",
    "\n",
    "def normilize_name2(n = None):\n",
    "    if ' ' in n:\n",
    "        return n.strip().split(\" \")[-1].replace(\")\",\"\")\n",
    "    return n\n",
    "\n",
    "def normilize_name3(n = None):\n",
    "    if '\"' in n:\n",
    "        n = n.replace('\"',\"\")\n",
    "    if '(' in n:\n",
    "        n = n.replace('(',\"\")\n",
    "    if ')' in n:\n",
    "        n = n.replace(')',\"\")\n",
    "\n",
    "    return n\n",
    "\n",
    "titanic_data['Name1'] = titanic_data.Name.str.split(\", \").str.get(1).str.split(\"\\.\\s\").str.get(1);\n",
    "titanic_data['Name2'] = titanic_data.Name1.apply(normilize_name1)\n",
    "titanic_data['ClearedName'] = titanic_data.Name2.apply(normilize_name2).apply(normilize_name3)\n",
    "\n",
    "names = titanic_data[titanic_data.Sex == 'female'][\"ClearedName\"];\n",
    "\n",
    "print(names.describe())"
   ]
  }
 ],
 "metadata": {
  "kernelspec": {
   "display_name": "Python 2",
   "language": "python",
   "name": "python2"
  },
  "language_info": {
   "codemirror_mode": {
    "name": "ipython",
    "version": 2
   },
   "file_extension": ".py",
   "mimetype": "text/x-python",
   "name": "python",
   "nbconvert_exporter": "python",
   "pygments_lexer": "ipython2",
   "version": "2.7.15"
  }
 },
 "nbformat": 4,
 "nbformat_minor": 2
}
