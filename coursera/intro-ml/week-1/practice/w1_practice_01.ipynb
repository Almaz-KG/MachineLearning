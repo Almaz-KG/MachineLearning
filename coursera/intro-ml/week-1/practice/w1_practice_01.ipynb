{
 "cells": [
  {
   "cell_type": "code",
   "execution_count": 2,
   "metadata": {},
   "outputs": [],
   "source": [
    "import numpy as np"
   ]
  },
  {
   "cell_type": "code",
   "execution_count": 4,
   "metadata": {},
   "outputs": [
    {
     "name": "stdout",
     "output_type": "stream",
     "text": [
      "[[ 10.47930542  14.39930873   7.15434968 ...   7.51285104   8.26432587\n",
      "   -1.19519979]\n",
      " [ 12.04992208 -13.41271892  -7.92823645 ...   3.06730829   5.36868441\n",
      "    8.34432575]\n",
      " [  1.48830008  -0.34488731  -2.12110522 ...  -7.52728515  18.08180954\n",
      "  -14.75416817]\n",
      " ...\n",
      " [  7.46334204 -17.21329097   7.26920327 ...   8.35224741 -20.7384274\n",
      "   -5.24926013]\n",
      " [  3.20676164  -3.03023157 -18.66349648 ...  -6.83626049   7.57175262\n",
      "   -1.21663889]\n",
      " [-25.02940361   4.73203729   8.77370458 ...  -0.72326104  20.69420221\n",
      "    6.29501143]]\n"
     ]
    }
   ],
   "source": [
    "X = np.random.normal(scale=10, loc=1, size=(1000, 50))\n",
    "print(X)"
   ]
  },
  {
   "cell_type": "code",
   "execution_count": 11,
   "metadata": {},
   "outputs": [
    {
     "name": "stdout",
     "output_type": "stream",
     "text": [
      "Average 1.56319401867e-17\n",
      "Std 1.0\n",
      "[[ 0.94395592  1.33580656  0.61158732 ...  0.64742376  0.72254255\n",
      "  -0.22304878]\n",
      " [ 1.10095761 -1.44433414 -0.89609533 ...  0.20303925  0.43308898\n",
      "   0.73053948]\n",
      " [ 0.04519873 -0.13805001 -0.31560397 ... -0.85601551  1.70391601\n",
      "  -1.57842784]\n",
      " ...\n",
      " [ 0.64247475 -1.82424621  0.62306829 ...  0.73133135 -2.17662524\n",
      "  -0.6283    ]\n",
      " [ 0.21697926 -0.40648189 -1.96921138 ... -0.78693944  0.65331167\n",
      "  -0.22519187]\n",
      " [-2.605559    0.36944858  0.77346097 ... -0.17587293  1.96505552\n",
      "   0.52568631]]\n"
     ]
    }
   ],
   "source": [
    "average = X.mean()\n",
    "std = X.std()\n",
    "print(\"Average {}\".format(average))\n",
    "print(\"Std {}\".format(std))\n",
    "\n",
    "X_norm = (X - average) / std\n",
    "print(X_norm)"
   ]
  },
  {
   "cell_type": "code",
   "execution_count": 26,
   "metadata": {},
   "outputs": [
    {
     "name": "stdout",
     "output_type": "stream",
     "text": [
      "(array([1, 4, 5]),)\n"
     ]
    }
   ],
   "source": [
    "Z = np.array([[4, 5, 0], \n",
    "             [1, 9, 3],              \n",
    "             [5, 1, 1],\n",
    "             [3, 3, 3], \n",
    "             [9, 9, 9], \n",
    "             [4, 7, 1]])\n",
    "lines = np.sum(Z, axis=1);\n",
    "print(np.nonzero(lines > 10))"
   ]
  },
  {
   "cell_type": "code",
   "execution_count": 38,
   "metadata": {},
   "outputs": [
    {
     "name": "stdout",
     "output_type": "stream",
     "text": [
      "[[1. 0. 0.]\n",
      " [0. 1. 0.]\n",
      " [0. 0. 1.]\n",
      " [1. 0. 0.]\n",
      " [0. 1. 0.]\n",
      " [0. 0. 1.]]\n",
      "\n",
      "\n",
      "[[1. 0. 0.]\n",
      " [0. 1. 0.]\n",
      " [0. 0. 1.]\n",
      " [1. 0. 0.]\n",
      " [0. 1. 0.]\n",
      " [0. 0. 1.]]\n"
     ]
    }
   ],
   "source": [
    "matrix1 = np.eye(3)\n",
    "matrix2 = np.eye(3)\n",
    "\n",
    "print(np.concatenate((matrix1, matrix2), axis=0))\n",
    "print(\"\\n\")\n",
    "print(np.vstack((matrix1, matrix2)))\n"
   ]
  },
  {
   "cell_type": "code",
   "execution_count": null,
   "metadata": {},
   "outputs": [],
   "source": []
  }
 ],
 "metadata": {
  "kernelspec": {
   "display_name": "Python 2",
   "language": "python",
   "name": "python2"
  },
  "language_info": {
   "codemirror_mode": {
    "name": "ipython",
    "version": 2
   },
   "file_extension": ".py",
   "mimetype": "text/x-python",
   "name": "python",
   "nbconvert_exporter": "python",
   "pygments_lexer": "ipython2",
   "version": "2.7.15"
  }
 },
 "nbformat": 4,
 "nbformat_minor": 2
}
