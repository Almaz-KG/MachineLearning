{
 "cells": [
  {
   "cell_type": "raw",
   "metadata": {},
   "source": [
    "# Задача: Спрогнозировать цену закрытия последней свечи торгового дня"
   ]
  },
  {
   "cell_type": "code",
   "execution_count": 2,
   "metadata": {},
   "outputs": [],
   "source": [
    "import pandas as pd\n",
    "import numpy as np\n",
    "import matplotlib.pyplot as plt "
   ]
  },
  {
   "cell_type": "code",
   "execution_count": 3,
   "metadata": {},
   "outputs": [],
   "source": [
    "data = pd.read_csv('SBERP_prepared.csv')"
   ]
  },
  {
   "cell_type": "code",
   "execution_count": 4,
   "metadata": {},
   "outputs": [
    {
     "name": "stdout",
     "output_type": "stream",
     "text": [
      "       DATE   TIME1  OPEN1  HIGH1   LOW1  CLOSE1     VOL1   TIME2  OPEN2  \\\n",
      "0  20120301  110000  75.38  75.45  74.91   74.95  2334800  120000  74.95   \n",
      "1  20120302  110000  76.01  76.35  75.79   76.13  3527600  120000  76.14   \n",
      "2  20120305  110000  77.09  78.59  77.09   78.39  5464300  120000  78.38   \n",
      "3  20120306  110000  77.15  77.20  76.71   77.03  2307800  120000  77.03   \n",
      "4  20120307  110000  74.00  74.20  73.23   73.86  3703100  120000  73.86   \n",
      "5  20120311  110000  76.00  76.19  75.81   75.93  3123500  120000  75.89   \n",
      "6  20120312  110000  75.78  75.79  75.30   75.78  2782200  120000  75.79   \n",
      "7  20120313  110000  77.39  77.92  77.33   77.61  1430000  120000  77.62   \n",
      "8  20120314  110000  80.05  80.60  80.00   80.25  5095200  120000  80.25   \n",
      "9  20120315  110000  83.37  83.38  81.92   82.40  6368600  120000  82.40   \n",
      "\n",
      "   HIGH2    ...      HIGH8   LOW8  CLOSE8     VOL8     TIME9  OPEN9  HIGH9  \\\n",
      "0  75.21    ...      75.30  75.12   75.16   754600  190000.0  75.14  75.61   \n",
      "1  76.30    ...      76.72  76.03   76.72  4305900  190000.0  76.72  77.48   \n",
      "2  78.40    ...      78.11  77.72   78.10  1385100  190000.0  78.10  78.11   \n",
      "3  77.11    ...      75.83  75.03   75.07  1457600  190000.0  75.07  75.11   \n",
      "4  74.37    ...      74.56  73.90   74.40  2827700  190000.0  74.40  74.78   \n",
      "5  76.04    ...      75.94  75.90   75.94   318400  190000.0  75.94  76.25   \n",
      "6  76.05    ...      77.19  76.91   77.00  1332100  190000.0  76.99  77.10   \n",
      "7  77.88    ...      78.84  78.15   78.77  3240000  190000.0  78.77  79.45   \n",
      "8  80.30    ...      83.19  82.60   83.09  3638200  190000.0  83.09  83.60   \n",
      "9  82.56    ...      81.90  80.11   80.72  9559500  190000.0  80.75  81.08   \n",
      "\n",
      "    LOW9  CLOSE9       VOL9  \n",
      "0  75.12   75.58  2269200.0  \n",
      "1  76.68   77.09  6021500.0  \n",
      "2  77.53   77.59  2659900.0  \n",
      "3  73.80   73.81  5285200.0  \n",
      "4  74.21   74.53  5004100.0  \n",
      "5  75.92   76.13  2409400.0  \n",
      "6  76.90   77.08  1374200.0  \n",
      "7  78.72   79.22  5444000.0  \n",
      "8  83.01   83.24  8129900.0  \n",
      "9  80.50   80.99  3224700.0  \n",
      "\n",
      "[10 rows x 55 columns]\n",
      "1590\n"
     ]
    }
   ],
   "source": [
    "print(data[:10])\n",
    "print(len(data))"
   ]
  },
  {
   "cell_type": "code",
   "execution_count": 5,
   "metadata": {},
   "outputs": [],
   "source": [
    "train_data = data[:1000].dropna()\n",
    "test_data = data[1000:].dropna()"
   ]
  },
  {
   "cell_type": "code",
   "execution_count": 7,
   "metadata": {},
   "outputs": [],
   "source": [
    "train_features = train_data.drop([\"DATE\", \"CLOSE9\", \"LOW9\", \"HIGH9\", \"VOL9\",\"TIME1\", \"TIME2\", \"TIME3\", \"TIME4\", \n",
    "                                  \"TIME5\", \"TIME6\", \"TIME7\", \"TIME8\", \"TIME9\"], axis=1)\n",
    "train_target = train_data[\"CLOSE9\"]\n",
    "\n",
    "test_features = test_data.drop([\"DATE\", \"CLOSE9\", \"LOW9\", \"HIGH9\", \"VOL9\",\"TIME1\", \"TIME2\", \"TIME3\", \"TIME4\", \n",
    "                                  \"TIME5\", \"TIME6\", \"TIME7\", \"TIME8\", \"TIME9\"], axis=1)\n",
    "test_target = test_data[\"CLOSE9\"]"
   ]
  },
  {
   "cell_type": "code",
   "execution_count": 8,
   "metadata": {},
   "outputs": [
    {
     "data": {
      "text/html": [
       "<div>\n",
       "<style scoped>\n",
       "    .dataframe tbody tr th:only-of-type {\n",
       "        vertical-align: middle;\n",
       "    }\n",
       "\n",
       "    .dataframe tbody tr th {\n",
       "        vertical-align: top;\n",
       "    }\n",
       "\n",
       "    .dataframe thead th {\n",
       "        text-align: right;\n",
       "    }\n",
       "</style>\n",
       "<table border=\"1\" class=\"dataframe\">\n",
       "  <thead>\n",
       "    <tr style=\"text-align: right;\">\n",
       "      <th></th>\n",
       "      <th>OPEN1</th>\n",
       "      <th>HIGH1</th>\n",
       "      <th>LOW1</th>\n",
       "      <th>CLOSE1</th>\n",
       "      <th>VOL1</th>\n",
       "      <th>OPEN2</th>\n",
       "      <th>HIGH2</th>\n",
       "      <th>LOW2</th>\n",
       "      <th>CLOSE2</th>\n",
       "      <th>VOL2</th>\n",
       "      <th>...</th>\n",
       "      <th>HIGH7</th>\n",
       "      <th>LOW7</th>\n",
       "      <th>CLOSE7</th>\n",
       "      <th>VOL7</th>\n",
       "      <th>OPEN8</th>\n",
       "      <th>HIGH8</th>\n",
       "      <th>LOW8</th>\n",
       "      <th>CLOSE8</th>\n",
       "      <th>VOL8</th>\n",
       "      <th>OPEN9</th>\n",
       "    </tr>\n",
       "  </thead>\n",
       "  <tbody>\n",
       "    <tr>\n",
       "      <th>0</th>\n",
       "      <td>75.38</td>\n",
       "      <td>75.45</td>\n",
       "      <td>74.91</td>\n",
       "      <td>74.95</td>\n",
       "      <td>2334800</td>\n",
       "      <td>74.95</td>\n",
       "      <td>75.21</td>\n",
       "      <td>74.83</td>\n",
       "      <td>74.90</td>\n",
       "      <td>1617800</td>\n",
       "      <td>...</td>\n",
       "      <td>75.45</td>\n",
       "      <td>75.09</td>\n",
       "      <td>75.19</td>\n",
       "      <td>1137900</td>\n",
       "      <td>75.20</td>\n",
       "      <td>75.30</td>\n",
       "      <td>75.12</td>\n",
       "      <td>75.16</td>\n",
       "      <td>754600</td>\n",
       "      <td>75.14</td>\n",
       "    </tr>\n",
       "    <tr>\n",
       "      <th>1</th>\n",
       "      <td>76.01</td>\n",
       "      <td>76.35</td>\n",
       "      <td>75.79</td>\n",
       "      <td>76.13</td>\n",
       "      <td>3527600</td>\n",
       "      <td>76.14</td>\n",
       "      <td>76.30</td>\n",
       "      <td>75.95</td>\n",
       "      <td>76.22</td>\n",
       "      <td>2527000</td>\n",
       "      <td>...</td>\n",
       "      <td>76.20</td>\n",
       "      <td>75.65</td>\n",
       "      <td>76.15</td>\n",
       "      <td>4247300</td>\n",
       "      <td>76.06</td>\n",
       "      <td>76.72</td>\n",
       "      <td>76.03</td>\n",
       "      <td>76.72</td>\n",
       "      <td>4305900</td>\n",
       "      <td>76.72</td>\n",
       "    </tr>\n",
       "    <tr>\n",
       "      <th>2</th>\n",
       "      <td>77.09</td>\n",
       "      <td>78.59</td>\n",
       "      <td>77.09</td>\n",
       "      <td>78.39</td>\n",
       "      <td>5464300</td>\n",
       "      <td>78.38</td>\n",
       "      <td>78.40</td>\n",
       "      <td>77.49</td>\n",
       "      <td>78.00</td>\n",
       "      <td>3856900</td>\n",
       "      <td>...</td>\n",
       "      <td>77.75</td>\n",
       "      <td>77.42</td>\n",
       "      <td>77.73</td>\n",
       "      <td>287600</td>\n",
       "      <td>77.72</td>\n",
       "      <td>78.11</td>\n",
       "      <td>77.72</td>\n",
       "      <td>78.10</td>\n",
       "      <td>1385100</td>\n",
       "      <td>78.10</td>\n",
       "    </tr>\n",
       "    <tr>\n",
       "      <th>3</th>\n",
       "      <td>77.15</td>\n",
       "      <td>77.20</td>\n",
       "      <td>76.71</td>\n",
       "      <td>77.03</td>\n",
       "      <td>2307800</td>\n",
       "      <td>77.03</td>\n",
       "      <td>77.11</td>\n",
       "      <td>76.70</td>\n",
       "      <td>76.72</td>\n",
       "      <td>1415800</td>\n",
       "      <td>...</td>\n",
       "      <td>75.90</td>\n",
       "      <td>75.34</td>\n",
       "      <td>75.71</td>\n",
       "      <td>2142600</td>\n",
       "      <td>75.71</td>\n",
       "      <td>75.83</td>\n",
       "      <td>75.03</td>\n",
       "      <td>75.07</td>\n",
       "      <td>1457600</td>\n",
       "      <td>75.07</td>\n",
       "    </tr>\n",
       "    <tr>\n",
       "      <th>4</th>\n",
       "      <td>74.00</td>\n",
       "      <td>74.20</td>\n",
       "      <td>73.23</td>\n",
       "      <td>73.86</td>\n",
       "      <td>3703100</td>\n",
       "      <td>73.86</td>\n",
       "      <td>74.37</td>\n",
       "      <td>73.86</td>\n",
       "      <td>74.15</td>\n",
       "      <td>1540400</td>\n",
       "      <td>...</td>\n",
       "      <td>74.12</td>\n",
       "      <td>73.69</td>\n",
       "      <td>73.94</td>\n",
       "      <td>867300</td>\n",
       "      <td>73.91</td>\n",
       "      <td>74.56</td>\n",
       "      <td>73.90</td>\n",
       "      <td>74.40</td>\n",
       "      <td>2827700</td>\n",
       "      <td>74.40</td>\n",
       "    </tr>\n",
       "  </tbody>\n",
       "</table>\n",
       "<p>5 rows × 41 columns</p>\n",
       "</div>"
      ],
      "text/plain": [
       "   OPEN1  HIGH1   LOW1  CLOSE1     VOL1  OPEN2  HIGH2   LOW2  CLOSE2     VOL2  \\\n",
       "0  75.38  75.45  74.91   74.95  2334800  74.95  75.21  74.83   74.90  1617800   \n",
       "1  76.01  76.35  75.79   76.13  3527600  76.14  76.30  75.95   76.22  2527000   \n",
       "2  77.09  78.59  77.09   78.39  5464300  78.38  78.40  77.49   78.00  3856900   \n",
       "3  77.15  77.20  76.71   77.03  2307800  77.03  77.11  76.70   76.72  1415800   \n",
       "4  74.00  74.20  73.23   73.86  3703100  73.86  74.37  73.86   74.15  1540400   \n",
       "\n",
       "   ...    HIGH7   LOW7  CLOSE7     VOL7  OPEN8  HIGH8   LOW8  CLOSE8     VOL8  \\\n",
       "0  ...    75.45  75.09   75.19  1137900  75.20  75.30  75.12   75.16   754600   \n",
       "1  ...    76.20  75.65   76.15  4247300  76.06  76.72  76.03   76.72  4305900   \n",
       "2  ...    77.75  77.42   77.73   287600  77.72  78.11  77.72   78.10  1385100   \n",
       "3  ...    75.90  75.34   75.71  2142600  75.71  75.83  75.03   75.07  1457600   \n",
       "4  ...    74.12  73.69   73.94   867300  73.91  74.56  73.90   74.40  2827700   \n",
       "\n",
       "   OPEN9  \n",
       "0  75.14  \n",
       "1  76.72  \n",
       "2  78.10  \n",
       "3  75.07  \n",
       "4  74.40  \n",
       "\n",
       "[5 rows x 41 columns]"
      ]
     },
     "execution_count": 8,
     "metadata": {},
     "output_type": "execute_result"
    }
   ],
   "source": [
    "train_features.head()"
   ]
  },
  {
   "cell_type": "code",
   "execution_count": 14,
   "metadata": {},
   "outputs": [],
   "source": [
    "from sklearn.preprocessing import StandardScaler\n",
    "\n",
    "scaler = StandardScaler()\n",
    "train_features_scaled = scaler.fit_transform(train_features)\n",
    "test_features_scaled = scaler.transform(test_features.dropna())"
   ]
  },
  {
   "cell_type": "code",
   "execution_count": 23,
   "metadata": {},
   "outputs": [
    {
     "data": {
      "text/plain": [
       "array([[ 0.68690351,  0.67092634,  0.63475935,  0.64903916, -0.73922116,\n",
       "         0.64458445,  0.64056894,  0.62933942,  0.65490576, -0.7694075 ,\n",
       "         0.65498757,  0.74830473,  0.67590819,  0.77136266,  0.07125648,\n",
       "         0.77507511,  0.79106297,  0.7964571 ,  0.79594853,  0.89827193,\n",
       "         0.79797789,  0.78361049,  0.79361029,  0.79056248, -0.33122932,\n",
       "         0.79131609,  0.7720053 ,  0.77653772,  0.75879514, -0.65599519,\n",
       "         0.75958877,  0.76165937,  0.77479855,  0.77911745, -0.92728655,\n",
       "         0.77804419,  0.77221618,  0.75552748,  0.75389648, -0.73844219,\n",
       "         0.74724916],\n",
       "       [ 0.83643222,  0.85223209,  0.85737366,  0.87025839, -0.38284844,\n",
       "         0.86673926,  0.88830257,  0.88885508,  0.90193789,  0.67112094,\n",
       "         0.90017134,  0.92673952,  0.92753246,  0.95083171, -0.2916796 ,\n",
       "         0.95081369,  0.94447161,  0.96096849,  0.96150053, -0.40409452,\n",
       "         0.9616756 ,  0.9474978 ,  0.94980842,  0.94328789, -0.56637054,\n",
       "         0.94123265,  0.91906104,  0.93186017,  0.93356215, -0.75090049,\n",
       "         0.93433992,  0.94288998,  0.95396134,  0.9415165 , -0.62251011,\n",
       "         0.94322007,  0.92741442,  0.93370737,  0.92219218, -0.82252115,\n",
       "         0.91739687],\n",
       "       [ 0.87172472,  0.85688096,  0.87128706,  0.88791875, -0.77702898,\n",
       "         0.88625914,  0.91344846,  0.90461139,  0.9130822 , -0.57579492,\n",
       "         0.91038734,  0.91001126,  0.9080339 ,  0.93595345, -0.80391277,\n",
       "         0.93500652,  0.9556286 ,  0.95632127,  0.96708094, -0.50752941,\n",
       "         0.96725621,  0.95215369,  0.95631667,  0.95446292, -0.90231808,\n",
       "         0.95054424,  0.93209129,  0.93651055,  0.9214772 , -0.7555354 ,\n",
       "         0.92411512,  0.94381937,  0.93261033,  0.95079644, -0.78132559,\n",
       "         0.95342757,  0.95622368,  0.96061995,  0.96775289, -0.67383782,\n",
       "         0.96667463],\n",
       "       [ 1.08812341,  1.10884948,  1.09575649,  1.10913799, -0.33999285,\n",
       "         1.10934347,  1.14628082,  1.1140776 ,  1.14154048, -0.15017111,\n",
       "         1.14442639,  1.12097322,  1.09094896,  1.09589478, -0.37115379,\n",
       "         1.09586775,  1.11926449,  1.10874991,  1.11217146, -0.51673526,\n",
       "         1.11514221,  1.10672923,  1.09763879,  1.08949454, -0.80540872,\n",
       "         1.09394269,  1.09683094,  1.07509166,  1.10368111, -0.60677685,\n",
       "         1.09793675,  1.13434387,  1.11084481,  1.13175538, -0.59528065,\n",
       "         1.13159481,  1.11420992,  1.10075101,  1.11745238, -0.63727922,\n",
       "         1.11636743],\n",
       "       [ 1.19678713,  1.16835496,  1.1736715 ,  1.14817668, -0.79939061,\n",
       "         1.14094709,  1.12579157,  1.12334602,  1.11646579, -0.80277502,\n",
       "         1.11192097,  1.08937539,  1.05659436,  1.05590945, -0.31521206,\n",
       "         1.05216557,  1.05232253,  1.04554779,  1.06101775, -0.73483168,\n",
       "         1.06119637,  1.05085856,  1.05394051,  1.06341947, -0.84018727,\n",
       "         1.05855865,  1.06797824,  1.06486084,  1.0637078 , -0.82807542,\n",
       "         1.07190998,  1.04976958,  1.0477201 ,  1.02874798, -0.70634091,\n",
       "         1.02859188,  1.01477152,  1.00052482,  1.02075209, -0.43629434,\n",
       "         1.01595238],\n",
       "       [ 0.95716969,  0.96380487,  0.98166665,  0.97993852, -0.83361451,\n",
       "         0.98385854,  1.0000621 ,  1.00749081,  0.98552019, -0.76067527,\n",
       "         0.98189927,  0.99365256,  1.0055267 ,  1.01406433, -0.84484138,\n",
       "         1.01404238,  1.01885156,  1.02974726,  1.03869613, -0.57923029,\n",
       "         1.03887395,  1.01919851,  1.02604798,  1.01685684, -0.88187741,\n",
       "         1.01572535,  1.00561916,  1.00905636,  1.01722721, -0.7739279 ,\n",
       "         1.01706786,  1.02653488,  0.95303303,  0.93409254, -0.12567612,\n",
       "         0.93208462,  0.93949572,  0.92349914,  0.92777104, -0.49285231,\n",
       "         0.92948387],\n",
       "       [ 1.00082093,  0.99541716,  0.99650761,  0.97622055, -0.66673515,\n",
       "         0.97549287,  0.99819944,  0.99544187,  1.01245226, -0.89749945,\n",
       "         1.01254724,  0.99272321,  1.0045982 ,  0.99453661, -0.91329403,\n",
       "         0.99079654,  1.01048381,  1.01022896,  1.03032552, -0.74770491,\n",
       "         1.02957295,  1.02757911,  1.03534549,  1.04106941, -0.54262113,\n",
       "         1.04645359,  1.04843285,  1.05649017,  1.04976363, -0.54541947,\n",
       "         1.05424896,  1.03954631,  1.04029366,  1.025964  , -0.8471186 ,\n",
       "         1.02673597,  1.03057014,  1.04506979,  1.03655887, -0.64894065,\n",
       "         1.03826684],\n",
       "       [ 1.12248715,  1.1116388 ,  1.13100375,  1.11564444, -0.97157012,\n",
       "         1.11492058,  1.13417354,  1.12890707,  1.13875441, -0.88159639,\n",
       "         1.13885404,  1.13212539,  1.14573063,  1.13123066, -0.94749057,\n",
       "         1.1302716 ,  1.13785947,  1.15057483,  1.15588463, -0.66410378,\n",
       "         1.15792684,  1.14025164,  1.14784533,  1.14257593, -0.85415751,\n",
       "         1.14236295,  1.13964464,  1.15321792,  1.14644325, -0.86890678,\n",
       "         1.15184934,  1.13527326,  1.15447513,  1.13732335, -0.86080244,\n",
       "         1.13716254,  1.12907921,  1.15457618,  1.13511878, -0.50381406,\n",
       "         1.13589258],\n",
       "       [ 1.1308459 ,  1.10420061,  1.09575649,  1.06173387, -0.71302323,\n",
       "         1.06100854,  1.05314788,  1.0538329 ,  1.0561008 , -0.80832663,\n",
       "         1.05898356,  1.06707104,  1.06866489,  1.04661053, -0.67326293,\n",
       "         1.0503059 ,  1.03372755,  1.04740668,  1.03590593, -0.32550796,\n",
       "         1.03608365,  1.02664793,  1.0502215 ,  1.04758817, -0.61144295,\n",
       "         1.04459127,  1.03726406,  1.04532927,  1.02466411, -0.05595824,\n",
       "         1.02450408,  1.06278101,  1.04400688,  1.02874798, -0.27474705,\n",
       "         1.03601551,  1.02127684,  1.04506979,  1.03841849, -0.64322655,\n",
       "         1.03547753],\n",
       "       [ 1.03889967,  1.00843398,  1.03175487,  1.02548366, -0.92301055,\n",
       "         1.02568685,  1.06059851,  1.05197921,  1.08303287, -0.40074556,\n",
       "         1.08405918,  1.08008191,  1.08166393,  1.07543717, -0.26725351,\n",
       "         1.07541141,  1.06533902,  1.04183002,  1.03404579, -0.69561325,\n",
       "         1.03515355,  1.04992738,  1.05487026,  1.05131318, -0.23887868,\n",
       "         1.05204054,  1.04005626,  1.05463002,  1.04046751, -0.51775715,\n",
       "         1.03472888,  1.0479108 ,  1.05421823,  1.03895592, -0.09934509,\n",
       "         1.03879938,  1.02592349,  0.98846056,  0.98262986,  0.07634245,\n",
       "         0.98155093]])"
      ]
     },
     "execution_count": 23,
     "metadata": {},
     "output_type": "execute_result"
    }
   ],
   "source": [
    "test_features_scaled[:10]"
   ]
  },
  {
   "cell_type": "code",
   "execution_count": 130,
   "metadata": {},
   "outputs": [
    {
     "data": {
      "text/plain": [
       "KNeighborsRegressor(algorithm='auto', leaf_size=30, metric='minkowski',\n",
       "          metric_params=None, n_jobs=1, n_neighbors=5, p=2,\n",
       "          weights='distance')"
      ]
     },
     "execution_count": 130,
     "metadata": {},
     "output_type": "execute_result"
    }
   ],
   "source": [
    "from sklearn.neighbors import KNeighborsRegressor\n",
    "from sklearn.preprocessing import StandardScaler\n",
    "\n",
    "knr = KNeighborsRegressor(n_neighbors=5, weights='distance')\n",
    "knr.fit(train_features_scaled, train_target)"
   ]
  },
  {
   "cell_type": "code",
   "execution_count": 145,
   "metadata": {},
   "outputs": [
    {
     "data": {
      "image/png": "[encoded data removed]",
      "text/plain": [
       "<Figure size 432x288 with 1 Axes>"
      ]
     },
     "metadata": {},
     "output_type": "display_data"
    }
   ],
   "source": [
    "knr_predictions = knr.predict(test_features_scaled)\n",
    "plt.plot(knr_predictions[:200], c='blue')\n",
    "plt.plot(test_target.values.tolist()[:200], c='green')\n",
    "plt.show()"
   ]
  },
  {
   "cell_type": "code",
   "execution_count": 181,
   "metadata": {},
   "outputs": [
    {
     "name": "stdout",
     "output_type": "stream",
     "text": [
      "Правильность на обучающем наборе: 1.0000\n",
      "Правильность на тестовом наборе: -1.5759\n"
     ]
    }
   ],
   "source": [
    "print(\"Правильность на обучающем наборе: %.4f\" % knr.score(train_features_scaled, train_target))\n",
    "print(\"Правильность на тестовом наборе: %.4f\" % knr.score(test_features_scaled, test_target))"
   ]
  },
  {
   "cell_type": "code",
   "execution_count": 147,
   "metadata": {},
   "outputs": [
    {
     "data": {
      "text/plain": [
       "LinearRegression(copy_X=True, fit_intercept=True, n_jobs=1, normalize=False)"
      ]
     },
     "execution_count": 147,
     "metadata": {},
     "output_type": "execute_result"
    }
   ],
   "source": [
    "from sklearn.linear_model import LinearRegression\n",
    "\n",
    "lr = LinearRegression()\n",
    "lr.fit(train_features_scaled, train_target)"
   ]
  },
  {
   "cell_type": "code",
   "execution_count": 150,
   "metadata": {},
   "outputs": [
    {
     "data": {
      "image/png": "[encoded data removed]",
      "text/plain": [
       "<Figure size 432x288 with 1 Axes>"
      ]
     },
     "metadata": {},
     "output_type": "display_data"
    }
   ],
   "source": [
    "lr_predictions = lr.predict(test_features_scaled)\n",
    "plt.plot(lr_predictions, c='blue')\n",
    "plt.plot(test_target.values.tolist(), c='green')\n",
    "plt.show()"
   ]
  },
  {
   "cell_type": "code",
   "execution_count": 180,
   "metadata": {},
   "outputs": [
    {
     "name": "stdout",
     "output_type": "stream",
     "text": [
      "Правильность на обучающем наборе: 0.9989\n",
      "Правильность на тестовом наборе: 0.9998\n"
     ]
    }
   ],
   "source": [
    "print(\"Правильность на обучающем наборе: %.4f\" % lr.score(train_features_scaled, train_target))\n",
    "print(\"Правильность на тестовом наборе: %.4f\" % lr.score(test_features_scaled, test_target))"
   ]
  },
  {
   "cell_type": "code",
   "execution_count": 18,
   "metadata": {},
   "outputs": [
    {
     "data": {
      "text/plain": [
       "Ridge(alpha=1.0, copy_X=True, fit_intercept=True, max_iter=None,\n",
       "   normalize=False, random_state=None, solver='auto', tol=0.001)"
      ]
     },
     "execution_count": 18,
     "metadata": {},
     "output_type": "execute_result"
    }
   ],
   "source": [
    "from sklearn.linear_model import Ridge\n",
    "\n",
    "ridge = Ridge()\n",
    "ridge.fit(train_features_scaled, train_target)"
   ]
  },
  {
   "cell_type": "code",
   "execution_count": 24,
   "metadata": {},
   "outputs": [],
   "source": [
    "p = ridge.predict([[0.68690351,  0.67092634,  0.63475935,  0.64903916, -0.73922116,\n",
    "         0.64458445,  0.64056894,  0.62933942,  0.65490576, -0.7694075 ,\n",
    "         0.65498757,  0.74830473,  0.67590819,  0.77136266,  0.07125648,\n",
    "         0.77507511,  0.79106297,  0.7964571 ,  0.79594853,  0.89827193,\n",
    "         0.79797789,  0.78361049,  0.79361029,  0.79056248, -0.33122932,\n",
    "         0.79131609,  0.7720053 ,  0.77653772,  0.75879514, -0.65599519,\n",
    "         0.75958877,  0.76165937,  0.77479855,  0.77911745, -0.92728655,\n",
    "         0.77804419,  0.77221618,  0.75552748,  0.75389648, -0.73844219,\n",
    "         0.74724916]])"
   ]
  },
  {
   "cell_type": "code",
   "execution_count": 26,
   "metadata": {},
   "outputs": [
    {
     "name": "stdout",
     "output_type": "stream",
     "text": [
      "[73.62203801]\n"
     ]
    },
    {
     "data": {
      "text/plain": [
       "1000     73.76\n",
       "1001     75.21\n",
       "1002     76.90\n",
       "1003     77.31\n",
       "1004     75.20\n",
       "1005     75.80\n",
       "1006     76.82\n",
       "1007     77.82\n",
       "1008     76.51\n",
       "1009     75.56\n",
       "1010     77.03\n",
       "1011     76.80\n",
       "1012     75.62\n",
       "1013     77.00\n",
       "1014     78.45\n",
       "1015     79.70\n",
       "1016     79.81\n",
       "1017     80.03\n",
       "1018     78.93\n",
       "1019     78.75\n",
       "1020     79.65\n",
       "1021     78.65\n",
       "1022     77.60\n",
       "1023     79.09\n",
       "1024     79.09\n",
       "1025     77.29\n",
       "1026     76.26\n",
       "1027     75.13\n",
       "1028     76.10\n",
       "1029     76.80\n",
       "         ...  \n",
       "1560    197.62\n",
       "1561    195.49\n",
       "1562    198.68\n",
       "1563    198.27\n",
       "1564    195.29\n",
       "1565    196.70\n",
       "1566    196.03\n",
       "1567    197.00\n",
       "1568    193.80\n",
       "1569    195.50\n",
       "1570    196.00\n",
       "1571    196.02\n",
       "1572    195.39\n",
       "1573    191.30\n",
       "1574    193.10\n",
       "1575    192.50\n",
       "1576    189.32\n",
       "1577    189.20\n",
       "1578    188.00\n",
       "1579    190.14\n",
       "1580    189.26\n",
       "1581    187.45\n",
       "1582    185.00\n",
       "1583    183.50\n",
       "1584    188.44\n",
       "1585    186.43\n",
       "1586    191.50\n",
       "1587    179.90\n",
       "1588    178.27\n",
       "1589    183.66\n",
       "Name: CLOSE9, Length: 589, dtype: float64"
      ]
     },
     "execution_count": 26,
     "metadata": {},
     "output_type": "execute_result"
    }
   ],
   "source": [
    "print(p)\n",
    "\n",
    "test_target"
   ]
  },
  {
   "cell_type": "code",
   "execution_count": 182,
   "metadata": {},
   "outputs": [
    {
     "data": {
      "image/png": "[encoded data removed]",
      "text/plain": [
       "<Figure size 432x288 with 1 Axes>"
      ]
     },
     "metadata": {},
     "output_type": "display_data"
    }
   ],
   "source": [
    "ridge_predictions = ridge.predict(test_features_scaled)\n",
    "plt.plot(ridge_predictions, c='blue')\n",
    "plt.plot(test_target.values.tolist(), c='green')\n",
    "plt.show()"
   ]
  },
  {
   "cell_type": "code",
   "execution_count": 183,
   "metadata": {},
   "outputs": [
    {
     "name": "stdout",
     "output_type": "stream",
     "text": [
      "Правильность на обучающем наборе: 0.9988\n",
      "Правильность на тестовом наборе: 0.9997\n"
     ]
    }
   ],
   "source": [
    "print(\"Правильность на обучающем наборе: %.4f\" % ridge.score(train_features_scaled, train_target))\n",
    "print(\"Правильность на тестовом наборе: %.4f\" % ridge.score(test_features_scaled, test_target))"
   ]
  },
  {
   "cell_type": "code",
   "execution_count": 184,
   "metadata": {},
   "outputs": [
    {
     "name": "stderr",
     "output_type": "stream",
     "text": [
      "/usr/local/lib/python2.7/site-packages/sklearn/linear_model/coordinate_descent.py:491: ConvergenceWarning: Objective did not converge. You might want to increase the number of iterations. Fitting data with very small alpha may cause precision problems.\n",
      "  ConvergenceWarning)\n"
     ]
    },
    {
     "data": {
      "text/plain": [
       "Lasso(alpha=1.0, copy_X=True, fit_intercept=True, max_iter=1000,\n",
       "   normalize=False, positive=False, precompute=False, random_state=None,\n",
       "   selection='cyclic', tol=0.0001, warm_start=False)"
      ]
     },
     "execution_count": 184,
     "metadata": {},
     "output_type": "execute_result"
    }
   ],
   "source": [
    "from sklearn.linear_model import Lasso\n",
    "\n",
    "lasso = Lasso()\n",
    "lasso.fit(train_features_scaled, train_target)"
   ]
  },
  {
   "cell_type": "code",
   "execution_count": 185,
   "metadata": {},
   "outputs": [
    {
     "data": {
      "image/png": "[encoded data removed]",
      "text/plain": [
       "<Figure size 432x288 with 1 Axes>"
      ]
     },
     "metadata": {},
     "output_type": "display_data"
    }
   ],
   "source": [
    "lasso_predictions = lasso.predict(test_features_scaled)\n",
    "plt.plot(lasso_predictions, c='blue')\n",
    "plt.plot(test_target.values.tolist(), c='green')\n",
    "plt.show()"
   ]
  },
  {
   "cell_type": "code",
   "execution_count": 192,
   "metadata": {},
   "outputs": [
    {
     "name": "stdout",
     "output_type": "stream",
     "text": [
      "Правильность на обучающем наборе: 0.9900\n",
      "Правильность на тестовом наборе: 0.9657\n",
      "Количество использованных признаков: 8\n"
     ]
    }
   ],
   "source": [
    "print(\"Правильность на обучающем наборе: %.4f\" % lasso.score(train_features_scaled, train_target))\n",
    "print(\"Правильность на тестовом наборе: %.4f\" % lasso.score(test_features_scaled, test_target))\n",
    "print(\"Количество использованных признаков: %d\" % np.sum(lasso.coef_ != 0))"
   ]
  },
  {
   "cell_type": "code",
   "execution_count": 195,
   "metadata": {},
   "outputs": [
    {
     "name": "stdout",
     "output_type": "stream",
     "text": [
      "Прогноз от knr: 85.2905\n",
      "Прогноз от lr: 183.4307\n",
      "Прогноз от ridge: 183.2162\n",
      "Прогноз от lasso: 172.3347\n",
      "Реальное значение: 182.9100\n"
     ]
    }
   ],
   "source": [
    "to_day_data = [[182.8000000,184.5000000,182.4000000,183.9400000,1073500,\n",
    "    183.8500000,184.0200000,183.3800000,183.9000000,435300,\n",
    "    183.8300000,184.4500000,183.1300000,183.3400000,603300,\n",
    "    183.3400000,183.6900000,182.6400000,182.7500000,351600,\n",
    "    182.7500000,183.8900000,182.7500000,183.0600000,248400,\n",
    "    183.0600000,183.1800000,181.7800000,182.3800000,507800,\n",
    "    182.2400000,183.4000000,182.0300000,183.2400000,525900,\n",
    "    183.1400000,183.7500000,182.9000000,183.3000000,556000,\n",
    "    183.3000000]]\n",
    "\n",
    "print(\"Прогноз от knr: %.4f\" % knr.predict(scaler.transform(to_day_data))[0])\n",
    "print(\"Прогноз от lr: %.4f\" % lr.predict(scaler.transform(to_day_data))[0])\n",
    "print(\"Прогноз от ridge: %.4f\" % ridge.predict(scaler.transform(to_day_data))[0])\n",
    "print(\"Прогноз от lasso: %.4f\" % lasso.predict(scaler.transform(to_day_data))[0])\n",
    "print(\"Реальное значение: %.4f\" % 182.9100000)\n"
   ]
  },
  {
   "cell_type": "code",
   "execution_count": 1,
   "metadata": {},
   "outputs": [
    {
     "ename": "NameError",
     "evalue": "name 'pd' is not defined",
     "output_type": "error",
     "traceback": [
      "\u001b[0;31m---------------------------------------------------------------------------\u001b[0m",
      "\u001b[0;31mNameError\u001b[0m                                 Traceback (most recent call last)",
      "\u001b[0;32m<ipython-input-1-0b80c4929cfe>\u001b[0m in \u001b[0;36m<module>\u001b[0;34m()\u001b[0m\n\u001b[0;32m----> 1\u001b[0;31m \u001b[0mres\u001b[0m \u001b[0;34m=\u001b[0m \u001b[0mpd\u001b[0m\u001b[0;34m.\u001b[0m\u001b[0mDataFrame\u001b[0m\u001b[0;34m(\u001b[0m\u001b[0mtest_data\u001b[0m\u001b[0;34m[\u001b[0m\u001b[0;34m\"CLOSE9\"\u001b[0m\u001b[0;34m]\u001b[0m\u001b[0;34m.\u001b[0m\u001b[0mtolist\u001b[0m\u001b[0;34m(\u001b[0m\u001b[0;34m)\u001b[0m\u001b[0;34m,\u001b[0m \u001b[0mcolumns\u001b[0m \u001b[0;34m=\u001b[0m \u001b[0;34m[\u001b[0m\u001b[0;34m\"ACTUAL_CLOSE9\"\u001b[0m\u001b[0;34m]\u001b[0m\u001b[0;34m)\u001b[0m\u001b[0;34m\u001b[0m\u001b[0m\n\u001b[0m\u001b[1;32m      2\u001b[0m \u001b[0mres\u001b[0m\u001b[0;34m[\u001b[0m\u001b[0;34m\"OPEN9\"\u001b[0m\u001b[0;34m]\u001b[0m \u001b[0;34m=\u001b[0m \u001b[0mpd\u001b[0m\u001b[0;34m.\u001b[0m\u001b[0mSeries\u001b[0m\u001b[0;34m(\u001b[0m\u001b[0mtest_features\u001b[0m\u001b[0;34m[\u001b[0m\u001b[0;34m\"OPEN9\"\u001b[0m\u001b[0;34m]\u001b[0m\u001b[0;34m.\u001b[0m\u001b[0mtolist\u001b[0m\u001b[0;34m(\u001b[0m\u001b[0;34m)\u001b[0m\u001b[0;34m)\u001b[0m\u001b[0;34m\u001b[0m\u001b[0m\n\u001b[1;32m      3\u001b[0m \u001b[0mres\u001b[0m\u001b[0;34m[\u001b[0m\u001b[0;34m\"PREDICTED_CLOSE9\"\u001b[0m\u001b[0;34m]\u001b[0m \u001b[0;34m=\u001b[0m \u001b[0mpd\u001b[0m\u001b[0;34m.\u001b[0m\u001b[0mSeries\u001b[0m\u001b[0;34m(\u001b[0m\u001b[0mlr_predictions\u001b[0m\u001b[0;34m)\u001b[0m\u001b[0;34m\u001b[0m\u001b[0m\n\u001b[1;32m      4\u001b[0m \u001b[0mres\u001b[0m\u001b[0;34m[\u001b[0m\u001b[0;34m\"RESULT\"\u001b[0m\u001b[0;34m]\u001b[0m \u001b[0;34m=\u001b[0m \u001b[0mnp\u001b[0m\u001b[0;34m.\u001b[0m\u001b[0mwhere\u001b[0m\u001b[0;34m(\u001b[0m\u001b[0mres\u001b[0m\u001b[0;34m[\u001b[0m\u001b[0;34m'PREDICTED_CLOSE9'\u001b[0m\u001b[0;34m]\u001b[0m \u001b[0;34m>=\u001b[0m \u001b[0mres\u001b[0m\u001b[0;34m[\u001b[0m\u001b[0;34m'OPEN9'\u001b[0m\u001b[0;34m]\u001b[0m\u001b[0;34m,\u001b[0m \u001b[0mres\u001b[0m\u001b[0;34m.\u001b[0m\u001b[0mACTUAL_CLOSE9\u001b[0m \u001b[0;34m-\u001b[0m \u001b[0mres\u001b[0m\u001b[0;34m.\u001b[0m\u001b[0mOPEN9\u001b[0m\u001b[0;34m,\u001b[0m \u001b[0;34m(\u001b[0m\u001b[0mres\u001b[0m\u001b[0;34m.\u001b[0m\u001b[0mOPEN9\u001b[0m \u001b[0;34m-\u001b[0m \u001b[0mres\u001b[0m\u001b[0;34m.\u001b[0m\u001b[0mACTUAL_CLOSE9\u001b[0m\u001b[0;34m)\u001b[0m\u001b[0;34m)\u001b[0m\u001b[0;34m\u001b[0m\u001b[0m\n\u001b[1;32m      5\u001b[0m \u001b[0;34m\u001b[0m\u001b[0m\n",
      "\u001b[0;31mNameError\u001b[0m: name 'pd' is not defined"
     ]
    }
   ],
   "source": [
    "res = pd.DataFrame(test_data[\"CLOSE9\"].tolist(), columns = [\"ACTUAL_CLOSE9\"])\n",
    "res[\"OPEN9\"] = pd.Series(test_features[\"OPEN9\"].tolist())\n",
    "res[\"PREDICTED_CLOSE9\"] = pd.Series(lr_predictions)\n",
    "res[\"RESULT\"] = np.where(res['PREDICTED_CLOSE9'] >= res['OPEN9'], res.ACTUAL_CLOSE9 - res.OPEN9, (res.OPEN9 - res.ACTUAL_CLOSE9))\n",
    "\n",
    "print(np.sum(res[\"RESULT\"]))"
   ]
  },
  {
   "cell_type": "code",
   "execution_count": null,
   "metadata": {},
   "outputs": [],
   "source": []
  }
 ],
 "metadata": {
  "kernelspec": {
   "display_name": "Python 2",
   "language": "python",
   "name": "python2"
  },
  "language_info": {
   "codemirror_mode": {
    "name": "ipython",
    "version": 2
   },
   "file_extension": ".py",
   "mimetype": "text/x-python",
   "name": "python",
   "nbconvert_exporter": "python",
   "pygments_lexer": "ipython2",
   "version": "2.7.15"
  }
 },
 "nbformat": 4,
 "nbformat_minor": 2
}
